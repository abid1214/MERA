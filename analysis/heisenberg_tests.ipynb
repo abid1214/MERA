{
 "cells": [
  {
   "cell_type": "code",
   "execution_count": 1,
   "metadata": {},
   "outputs": [],
   "source": [
    "import numpy as np\n",
    "import numpy.linalg as la\n",
    "from scipy.linalg import logm"
   ]
  },
  {
   "cell_type": "code",
   "execution_count": 2,
   "metadata": {},
   "outputs": [],
   "source": [
    "X  = .5*np.array([[0, 1 ], [ 1 , 0]])\n",
    "Y  = .5*np.array([[0,-1j], [ 1j, 0]])\n",
    "Z  = .5*np.array([[1, 0 ], [ 0 ,-1]])\n",
    "YL = .5*np.array([[0, 1 ], [-1 , 0]])\n",
    "YR = .5*np.array([[0,-1 ], [ 1 , 0]])\n",
    "SS = np.kron(X,X) + np.kron(YL,YR) + np.kron(Z,Z)\n",
    "I  = np.eye(2)"
   ]
  },
  {
   "cell_type": "code",
   "execution_count": 3,
   "metadata": {},
   "outputs": [],
   "source": [
    "def pauli_string(pauli_list, idx_list, L):\n",
    "    p_list = [I for x in range(L)]\n",
    "    for p, idx in zip(pauli_list, idx_list):\n",
    "        p_list[idx] = p\n",
    "    mat = 1\n",
    "    for p in p_list:\n",
    "        mat = np.kron(mat, p)\n",
    "    return mat\n",
    "def Heisenberg(W_list):\n",
    "    H = 0\n",
    "    L = len(W_list)\n",
    "    for i, W in enumerate(W_list):\n",
    "        if i < L-1:\n",
    "            H += pauli_string([SS],   [i], L-1)\n",
    "        H += pauli_string([W*Z], [i], L)\n",
    "    return H\n",
    "\n",
    "def get_Sa(a, L):\n",
    "    Sa = 0\n",
    "    for i in range(a):\n",
    "        Sa += pauli_string([Z], [i], L)\n",
    "    return Sa"
   ]
  },
  {
   "cell_type": "code",
   "execution_count": 34,
   "metadata": {},
   "outputs": [],
   "source": [
    "def bin_split(n, L, idx_list):\n",
    "    a, b = '', ''\n",
    "    s = bin(n)[2:].zfill(L)\n",
    "    for i in range(L):\n",
    "        if i in idx_list:\n",
    "            b += s[i]\n",
    "        else:\n",
    "            a += s[i]\n",
    "    return int(a,2), int(b,2)\n",
    "\n",
    "def partial_trace(O, idx_list):\n",
    "    L,_= O.shape\n",
    "    N  = int(np.log2(L))\n",
    "    Nb = len(idx_list)\n",
    "    Na = N - Nb\n",
    "    L_b = 2**Nb\n",
    "    L_a = 2**(N - Nb)\n",
    "    \n",
    "    O_a = np.zeros((L_a,L_a))\n",
    "    for i in range(L):\n",
    "        for j in range(L):\n",
    "            i_a, i_b = bin_split(i, N, idx_list)\n",
    "            j_a, j_b = bin_split(j, N, idx_list)\n",
    "            if i_b == j_b:\n",
    "                O_a[i_a,j_a] += O[i,j]\n",
    "    return O_a\n",
    "\n",
    "def find_eig_idx(E_list, E):\n",
    "    return min(range(len(E_list)), key=lambda i: abs(E_list[i]-E))\n",
    "\n",
    "def entanglement_entropy(psi, a):\n",
    "    L,_  = psi.shape\n",
    "    N    = int(np.log2(L))\n",
    "    rho  = psi@psi.transpose()\n",
    "    idx_list = list(range(a,N)) if a < N//2 else list(range(a))\n",
    "    rhoA = partial_trace(rho, idx_list)\n",
    "    return -np.trace(rhoA@logm(rhoA)).real\n",
    "\n",
    "def bip_spin_fluc(psi):\n",
    "    L,_ = psi.shape\n",
    "    N = int(np.log2(L))\n",
    "    Sa = get_Sa(N//2, N)\n",
    "    v = psi.transpose()@Sa@Sa@psi\n",
    "    e = psi.transpose()@Sa@psi\n",
    "    return (v - e*e)[0,0]\n",
    "\n",
    "def participation_entropy(psi):\n",
    "    L, _ = psi.shape\n",
    "    PE = 0\n",
    "    for i in range(L):\n",
    "        p = psi[i,0]**2\n",
    "        if p > 0:\n",
    "            PE -= p*np.log(p)\n",
    "    return PE\n",
    "\n",
    "def pretty_print(U, precision=3):\n",
    "    with np.printoptions(precision=precision, suppress=True):\n",
    "        print(U)"
   ]
  },
  {
   "cell_type": "code",
   "execution_count": 40,
   "metadata": {},
   "outputs": [],
   "source": [
    "L = 8\n",
    "W_list = [-4.42409, 2.93631, -2.53264, 0.745125, 6.9311, -1.17513, -1.9877, -2.11398]\n",
    "#W_list = np.zeros(L)\n",
    "H = Heisenberg(W_list)\n",
    "E_list, U_list = la.eigh(H)"
   ]
  },
  {
   "cell_type": "code",
   "execution_count": 43,
   "metadata": {},
   "outputs": [
    {
     "name": "stdout",
     "output_type": "stream",
     "text": [
      "ep =  0.7213662197834295\n",
      "E =  4.8956904733602835\n",
      "EEs:\n",
      "0.027653256121587116\n",
      "0.0017547901583794862\n",
      "logm result may be inaccurate, approximate err = 3.448777614999912e-13\n",
      "2.0362952220786415e-05\n",
      "5.321509709561186e-08\n",
      "1.1770014118302592e-09\n",
      "4.1521791510283496e-11\n",
      "2.010052753228452e-12\n",
      "bip spin =  2.5605029208009e-09\n",
      "PE       =  0.028416612573925977\n"
     ]
    }
   ],
   "source": [
    "E = 4.89472\n",
    "\n",
    "i = find_eig_idx(E_list, E)\n",
    "psi = U_list[:,i].reshape((2**L,1))\n",
    "print(\"ep = \", (E_list[i] - min(E_list))/(max(E_list)-min(E_list)))\n",
    "print(\"E = \", E_list[i])\n",
    "print(\"EEs:\")\n",
    "for a in range(1,L):\n",
    "    print(entanglement_entropy(psi, a))\n",
    "print(\"bip spin = \", bip_spin_fluc(psi))\n",
    "print(\"PE       = \", participation_entropy(psi))\n",
    "#print(\"psi:\")\n",
    "#pretty_print(psi, 5)"
   ]
  },
  {
   "cell_type": "code",
   "execution_count": 32,
   "metadata": {},
   "outputs": [
    {
     "name": "stdout",
     "output_type": "stream",
     "text": [
      "[[2.66453526e-15]]\n"
     ]
    }
   ],
   "source": [
    "E = psi.transpose()@H@psi\n",
    "var = psi.transpose()@H@H@psi\n",
    "print(var - E*E)"
   ]
  },
  {
   "cell_type": "code",
   "execution_count": null,
   "metadata": {},
   "outputs": [],
   "source": []
  }
 ],
 "metadata": {
  "kernelspec": {
   "display_name": "Python 3",
   "language": "python",
   "name": "python3"
  },
  "language_info": {
   "codemirror_mode": {
    "name": "ipython",
    "version": 3
   },
   "file_extension": ".py",
   "mimetype": "text/x-python",
   "name": "python",
   "nbconvert_exporter": "python",
   "pygments_lexer": "ipython3",
   "version": "3.8.5"
  }
 },
 "nbformat": 4,
 "nbformat_minor": 4
}
